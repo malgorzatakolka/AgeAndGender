{
 "cells": [
  {
   "cell_type": "markdown",
   "metadata": {},
   "source": [
    "# Module 4: Deep Learning\n",
    "\n",
    "## Sprint 3: Practical Deep Learning\n",
    "\n",
    "## Age and Gender classification"
   ]
  },
  {
   "cell_type": "markdown",
   "metadata": {},
   "source": [
    "<div style=\"text-align:center;margin-top:10px\">\n",
    "<div><img style=\"width:400px\" src=\"https://ec.europa.eu/echo/sites/echo-site/files/GA%20marker%20image.jpg\"></img><div>\n",
    "<div style=\"margin-bottom:20px; color:rgb(117, 117, 117);font-size:12px;\">Source: https://ec.europa.eu/</div>\n",
    "</div>"
   ]
  },
  {
   "cell_type": "markdown",
   "metadata": {},
   "source": [
    "## Background\n",
    "\n",
    "Congratulations on reaching your last project. We will try to put into practice the concepts we learned so far.\n",
    "\n",
    "In this lesson, we will take two fairly simple problems - gender classification and age classification from an up-close image of a person. But instead of making two different models, your task will be to make one model that does both of these tasks. Moreover, you will then analyze the model from the ethical point of view and see what sort of dangers and caveats such models can have."
   ]
  },
  {
   "cell_type": "markdown",
   "metadata": {},
   "source": [
    "---"
   ]
  },
  {
   "cell_type": "markdown",
   "metadata": {},
   "source": [
    "The exercise today is to train a multi-objective image classifier using data from https://www.kaggle.com/jangedoo/utkface-new  \n",
    "You will train a single model that can predict gender and age.\n",
    "\n",
    "Find out more about multi-task learning  \n",
    "https://ruder.io/multi-task/  \n",
    "https://www.youtube.com/watch?v=UdXfsAr4Gjw"
   ]
  },
  {
   "cell_type": "markdown",
   "metadata": {},
   "source": [
    "## Concepts to explore\n",
    "\n",
    "- Classification task\n",
    "- Convolutional neural network\n",
    "- AI ethics and bias\n",
    "- Model interpretability"
   ]
  },
  {
   "cell_type": "markdown",
   "metadata": {},
   "source": [
    "## Requirements\n",
    "\n",
    "- You should go through the standard cycle of EDA-model-evaluation.\n",
    "- Create a single model that returns age and gender in a single pass\n",
    "- Analyze model performance\n",
    "- Understand, which are the best/worst performing samples.\n",
    "- Use LIME for model interpretability with images. Understand what you model\n",
    "\n",
    "Once you are done with these tasks, evaluate any ethical issues with this model\n",
    "\n",
    "- Identify how this model can be biased and check if the results show signs of these issues.\n",
    "- Analyze bad predictions. Do you see any patterns in misclassified samples, that can cause ethical concerns?\n",
    "- Describe in which scenarios your model can be biased. Propose solutions to mitigate it.\n",
    "- Think of a domain, where this model could/could-not be deployed."
   ]
  },
  {
   "cell_type": "markdown",
   "metadata": {},
   "source": [
    "## Evaluation criteria\n",
    "\n",
    "- EDA\n",
    "- A single end-to-end trainable deep learning model is built\n",
    "- Correctly modeled classification/regression\n",
    "- Correct selection of loss function(s)\n",
    "- Model interpretability tools used and insights made\n",
    "- Model aggregate performance\n",
    "- Quality of ethical concerns raised\n",
    "- Code quality"
   ]
  },
  {
   "cell_type": "markdown",
   "metadata": {},
   "source": [
    "\n",
    "## Sample correction questions\n",
    "\n",
    "During a correction, you may get asked questions that test your understanding of covered topics.\n",
    "\n",
    "- What advantages does building ML model in iterations bring over non-iterative approach.\n",
    "- You are given 2 million images out of which only 1000 has labels. You are asked to build an image classifier. Explain how would you address the problem with the help of auto-encoders.\n",
    "- When training ML models, an engineer often has to compromise between inference speed and performance (e.g. accuracy, f1). Explain in what scenarios would you choose performance over speed and vice-versa.\n",
    "- What is negative feedback loop in ML models. Give an example and explain what (if anything) can be done to avoid it."
   ]
  },
  {
   "cell_type": "code",
   "execution_count": null,
   "metadata": {},
   "outputs": [],
   "source": []
  }
 ],
 "metadata": {
  "kernelspec": {
   "display_name": "Python 3",
   "language": "python",
   "name": "python3"
  },
  "language_info": {
   "codemirror_mode": {
    "name": "ipython",
    "version": 3
   },
   "file_extension": ".py",
   "mimetype": "text/x-python",
   "name": "python",
   "nbconvert_exporter": "python",
   "pygments_lexer": "ipython3",
   "version": "3.8.5"
  },
  "pycharm": {
   "stem_cell": {
    "cell_type": "raw",
    "metadata": {
     "collapsed": false
    },
    "source": []
   }
  }
 },
 "nbformat": 4,
 "nbformat_minor": 4
}
